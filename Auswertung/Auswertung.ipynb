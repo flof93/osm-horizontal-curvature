{
 "cells": [
  {
   "cell_type": "code",
   "execution_count": 1,
   "id": "af2e03a3-e166-424f-bfc6-1baf99e8368d",
   "metadata": {},
   "outputs": [],
   "source": [
    "import pandas as pd\n",
    "import seaborn as sns\n",
    "import csv"
   ]
  },
  {
   "cell_type": "code",
   "execution_count": 2,
   "id": "81142993-ede5-49f4-872e-8e9a2564082b",
   "metadata": {},
   "outputs": [],
   "source": [
    "df=pd.read_feather('data.feather')\n",
    "input_df=pd.read_csv('../cities.csv', sep=';', quoting=csv.QUOTE_NONNUMERIC, quotechar='\\'')\n"
   ]
  },
  {
   "cell_type": "code",
   "execution_count": 3,
   "id": "9400a882-01e3-43b5-a1f5-c5c402bd2d90",
   "metadata": {},
   "outputs": [
    {
     "data": {
      "text/html": [
       "<div>\n",
       "<style scoped>\n",
       "    .dataframe tbody tr th:only-of-type {\n",
       "        vertical-align: middle;\n",
       "    }\n",
       "\n",
       "    .dataframe tbody tr th {\n",
       "        vertical-align: top;\n",
       "    }\n",
       "\n",
       "    .dataframe thead tr th {\n",
       "        text-align: left;\n",
       "    }\n",
       "\n",
       "    .dataframe thead tr:last-of-type th {\n",
       "        text-align: right;\n",
       "    }\n",
       "</style>\n",
       "<table border=\"1\" class=\"dataframe\">\n",
       "  <thead>\n",
       "    <tr>\n",
       "      <th></th>\n",
       "      <th></th>\n",
       "      <th colspan=\"2\" halign=\"left\">Distanz</th>\n",
       "      <th>Kurvigkeit</th>\n",
       "    </tr>\n",
       "    <tr>\n",
       "      <th></th>\n",
       "      <th></th>\n",
       "      <th>mean</th>\n",
       "      <th>sum</th>\n",
       "      <th>mean</th>\n",
       "    </tr>\n",
       "    <tr>\n",
       "      <th>Stadt</th>\n",
       "      <th>Spurweite</th>\n",
       "      <th></th>\n",
       "      <th></th>\n",
       "      <th></th>\n",
       "    </tr>\n",
       "  </thead>\n",
       "  <tbody>\n",
       "    <tr>\n",
       "      <th rowspan=\"2\" valign=\"top\">Berlin</th>\n",
       "      <th>1000.0</th>\n",
       "      <td>10.914380</td>\n",
       "      <td>10.914380</td>\n",
       "      <td>130.719676</td>\n",
       "    </tr>\n",
       "    <tr>\n",
       "      <th>1435.0</th>\n",
       "      <td>11.222666</td>\n",
       "      <td>1111.043920</td>\n",
       "      <td>131.365233</td>\n",
       "    </tr>\n",
       "    <tr>\n",
       "      <th>Brno</th>\n",
       "      <th>1435.0</th>\n",
       "      <td>10.323065</td>\n",
       "      <td>289.045813</td>\n",
       "      <td>176.768461</td>\n",
       "    </tr>\n",
       "    <tr>\n",
       "      <th>Budapest</th>\n",
       "      <th>1435.0</th>\n",
       "      <td>11.455387</td>\n",
       "      <td>1729.763435</td>\n",
       "      <td>94.054033</td>\n",
       "    </tr>\n",
       "    <tr>\n",
       "      <th>Gmunden</th>\n",
       "      <th>1000.0</th>\n",
       "      <td>2.828363</td>\n",
       "      <td>5.656726</td>\n",
       "      <td>342.188275</td>\n",
       "    </tr>\n",
       "    <tr>\n",
       "      <th>Graz</th>\n",
       "      <th>1435.0</th>\n",
       "      <td>7.774837</td>\n",
       "      <td>108.847713</td>\n",
       "      <td>273.430890</td>\n",
       "    </tr>\n",
       "    <tr>\n",
       "      <th>Innsbruck</th>\n",
       "      <th>1000.0</th>\n",
       "      <td>6.223142</td>\n",
       "      <td>87.123988</td>\n",
       "      <td>315.598981</td>\n",
       "    </tr>\n",
       "    <tr>\n",
       "      <th>Linz</th>\n",
       "      <th>900.0</th>\n",
       "      <td>13.335696</td>\n",
       "      <td>160.028352</td>\n",
       "      <td>194.605447</td>\n",
       "    </tr>\n",
       "    <tr>\n",
       "      <th>Mailand</th>\n",
       "      <th>1445.0</th>\n",
       "      <td>9.257184</td>\n",
       "      <td>324.001434</td>\n",
       "      <td>179.377385</td>\n",
       "    </tr>\n",
       "    <tr>\n",
       "      <th>München</th>\n",
       "      <th>1435.0</th>\n",
       "      <td>8.583994</td>\n",
       "      <td>394.863702</td>\n",
       "      <td>175.375552</td>\n",
       "    </tr>\n",
       "    <tr>\n",
       "      <th>Prag</th>\n",
       "      <th>1435.0</th>\n",
       "      <td>16.330730</td>\n",
       "      <td>1224.804734</td>\n",
       "      <td>165.665692</td>\n",
       "    </tr>\n",
       "    <tr>\n",
       "      <th rowspan=\"2\" valign=\"top\">San Francisco</th>\n",
       "      <th>1067.0</th>\n",
       "      <td>2.679947</td>\n",
       "      <td>16.079681</td>\n",
       "      <td>99.077549</td>\n",
       "    </tr>\n",
       "    <tr>\n",
       "      <th>1435.0</th>\n",
       "      <td>11.644135</td>\n",
       "      <td>163.017889</td>\n",
       "      <td>77.401544</td>\n",
       "    </tr>\n",
       "    <tr>\n",
       "      <th>Wien</th>\n",
       "      <th>1435.0</th>\n",
       "      <td>7.660184</td>\n",
       "      <td>543.873055</td>\n",
       "      <td>191.187581</td>\n",
       "    </tr>\n",
       "  </tbody>\n",
       "</table>\n",
       "</div>"
      ],
      "text/plain": [
       "                           Distanz               Kurvigkeit\n",
       "                              mean          sum        mean\n",
       "Stadt         Spurweite                                    \n",
       "Berlin        1000.0     10.914380    10.914380  130.719676\n",
       "              1435.0     11.222666  1111.043920  131.365233\n",
       "Brno          1435.0     10.323065   289.045813  176.768461\n",
       "Budapest      1435.0     11.455387  1729.763435   94.054033\n",
       "Gmunden       1000.0      2.828363     5.656726  342.188275\n",
       "Graz          1435.0      7.774837   108.847713  273.430890\n",
       "Innsbruck     1000.0      6.223142    87.123988  315.598981\n",
       "Linz          900.0      13.335696   160.028352  194.605447\n",
       "Mailand       1445.0      9.257184   324.001434  179.377385\n",
       "München       1435.0      8.583994   394.863702  175.375552\n",
       "Prag          1435.0     16.330730  1224.804734  165.665692\n",
       "San Francisco 1067.0      2.679947    16.079681   99.077549\n",
       "              1435.0     11.644135   163.017889   77.401544\n",
       "Wien          1435.0      7.660184   543.873055  191.187581"
      ]
     },
     "execution_count": 3,
     "metadata": {},
     "output_type": "execute_result"
    }
   ],
   "source": [
    "pd.pivot_table(data=df,\n",
    "                           values=[\"Kurvigkeit\", \"Distanz\"],\n",
    "                           index=[\"Stadt\", 'Spurweite'],\n",
    "                           aggfunc={'Kurvigkeit': 'mean', 'Distanz': ('sum', 'mean')})"
   ]
  },
  {
   "cell_type": "code",
   "execution_count": 4,
   "id": "a9a4369e-ce51-4a02-8343-f70e6af95d61",
   "metadata": {},
   "outputs": [
    {
     "data": {
      "text/html": [
       "<div>\n",
       "<style scoped>\n",
       "    .dataframe tbody tr th:only-of-type {\n",
       "        vertical-align: middle;\n",
       "    }\n",
       "\n",
       "    .dataframe tbody tr th {\n",
       "        vertical-align: top;\n",
       "    }\n",
       "\n",
       "    .dataframe thead th {\n",
       "        text-align: right;\n",
       "    }\n",
       "</style>\n",
       "<table border=\"1\" class=\"dataframe\">\n",
       "  <thead>\n",
       "    <tr style=\"text-align: right;\">\n",
       "      <th></th>\n",
       "      <th>Distanz</th>\n",
       "      <th>Kurvigkeit</th>\n",
       "    </tr>\n",
       "    <tr>\n",
       "      <th>Spurweite</th>\n",
       "      <th></th>\n",
       "      <th></th>\n",
       "    </tr>\n",
       "  </thead>\n",
       "  <tbody>\n",
       "    <tr>\n",
       "      <th>900.0</th>\n",
       "      <td>13.335696</td>\n",
       "      <td>194.605447</td>\n",
       "    </tr>\n",
       "    <tr>\n",
       "      <th>1000.0</th>\n",
       "      <td>6.099711</td>\n",
       "      <td>307.851880</td>\n",
       "    </tr>\n",
       "    <tr>\n",
       "      <th>1067.0</th>\n",
       "      <td>2.679947</td>\n",
       "      <td>99.077549</td>\n",
       "    </tr>\n",
       "    <tr>\n",
       "      <th>1435.0</th>\n",
       "      <td>11.175221</td>\n",
       "      <td>142.841383</td>\n",
       "    </tr>\n",
       "    <tr>\n",
       "      <th>1445.0</th>\n",
       "      <td>9.257184</td>\n",
       "      <td>179.377385</td>\n",
       "    </tr>\n",
       "  </tbody>\n",
       "</table>\n",
       "</div>"
      ],
      "text/plain": [
       "             Distanz  Kurvigkeit\n",
       "Spurweite                       \n",
       "900.0      13.335696  194.605447\n",
       "1000.0      6.099711  307.851880\n",
       "1067.0      2.679947   99.077549\n",
       "1435.0     11.175221  142.841383\n",
       "1445.0      9.257184  179.377385"
      ]
     },
     "execution_count": 4,
     "metadata": {},
     "output_type": "execute_result"
    }
   ],
   "source": [
    "pd.pivot_table(data=df, values=[\"Kurvigkeit\", \"Distanz\"], index=\"Spurweite\", aggfunc='mean')"
   ]
  },
  {
   "cell_type": "code",
   "execution_count": 5,
   "id": "7dab70c0-bd9f-445e-9b28-850e0e2b790b",
   "metadata": {},
   "outputs": [
    {
     "data": {
      "text/plain": [
       "<Axes: xlabel='Spurweite', ylabel='Kurvigkeit'>"
      ]
     },
     "execution_count": 5,
     "metadata": {},
     "output_type": "execute_result"
    },
    {
     "data": {
      "image/png": "[encoded data removed]",
      "text/plain": [
       "<Figure size 640x480 with 1 Axes>"
      ]
     },
     "metadata": {},
     "output_type": "display_data"
    }
   ],
   "source": [
    "sns.boxplot(data=df, y='Kurvigkeit', x='Spurweite', orient='v')\n"
   ]
  },
  {
   "cell_type": "code",
   "execution_count": 6,
   "id": "eb71bbbe-8803-41d2-b70d-c0fec5e21890",
   "metadata": {},
   "outputs": [
    {
     "data": {
      "text/plain": [
       "<Axes: xlabel='Kurvigkeit', ylabel='Stadt'>"
      ]
     },
     "execution_count": 6,
     "metadata": {},
     "output_type": "execute_result"
    },
    {
     "data": {
      "image/png": "[encoded data removed]",
      "text/plain": [
       "<Figure size 640x480 with 1 Axes>"
      ]
     },
     "metadata": {},
     "output_type": "display_data"
    }
   ],
   "source": [
    "sns.boxplot(data=df, x='Kurvigkeit', y='Stadt', orient='h')"
   ]
  },
  {
   "cell_type": "code",
   "execution_count": 7,
   "id": "9368a177-8611-475e-8b6a-9d00b2f83ea9",
   "metadata": {},
   "outputs": [
    {
     "data": {
      "text/plain": [
       "<Axes: xlabel='Kurvigkeit', ylabel='Geschwindigkeit'>"
      ]
     },
     "execution_count": 7,
     "metadata": {},
     "output_type": "execute_result"
    },
    {
     "data": {
      "image/png": "[encoded data removed]",
      "text/plain": [
       "<Figure size 640x480 with 1 Axes>"
      ]
     },
     "metadata": {},
     "output_type": "display_data"
    }
   ],
   "source": [
    "pt_cities=pd.pivot_table(data=df,\n",
    "                           values=[\"Kurvigkeit\", \"Distanz\"],\n",
    "                           index=[\"Stadt\", 'Spurweite'],\n",
    "                           aggfunc={'Kurvigkeit': 'mean', 'Distanz': 'mean'})\n",
    "merged_df=pd.merge(pt_cities, input_df, on='Stadt').drop(['Sued', 'West', 'Ost', 'Nord' ,'RailModes'], axis='columns')\n",
    "sns.scatterplot(data=merged_df, x='Kurvigkeit', y='Geschwindigkeit')"
   ]
  },
  {
   "cell_type": "code",
   "execution_count": 8,
   "id": "fde41e9a-5de8-48ff-8cc4-70655a3f991e",
   "metadata": {},
   "outputs": [
    {
     "data": {
      "text/html": [
       "<div>\n",
       "<style scoped>\n",
       "    .dataframe tbody tr th:only-of-type {\n",
       "        vertical-align: middle;\n",
       "    }\n",
       "\n",
       "    .dataframe tbody tr th {\n",
       "        vertical-align: top;\n",
       "    }\n",
       "\n",
       "    .dataframe thead th {\n",
       "        text-align: right;\n",
       "    }\n",
       "</style>\n",
       "<table border=\"1\" class=\"dataframe\">\n",
       "  <thead>\n",
       "    <tr style=\"text-align: right;\">\n",
       "      <th></th>\n",
       "      <th>Stadt</th>\n",
       "      <th>Distanz</th>\n",
       "      <th>Kurvigkeit</th>\n",
       "      <th>Geschwindigkeit</th>\n",
       "    </tr>\n",
       "  </thead>\n",
       "  <tbody>\n",
       "    <tr>\n",
       "      <th>0</th>\n",
       "      <td>Berlin</td>\n",
       "      <td>10.914380</td>\n",
       "      <td>130.719676</td>\n",
       "      <td>17.40</td>\n",
       "    </tr>\n",
       "    <tr>\n",
       "      <th>1</th>\n",
       "      <td>Berlin</td>\n",
       "      <td>11.222666</td>\n",
       "      <td>131.365233</td>\n",
       "      <td>17.40</td>\n",
       "    </tr>\n",
       "    <tr>\n",
       "      <th>2</th>\n",
       "      <td>Brno</td>\n",
       "      <td>10.323065</td>\n",
       "      <td>176.768461</td>\n",
       "      <td>NaN</td>\n",
       "    </tr>\n",
       "    <tr>\n",
       "      <th>3</th>\n",
       "      <td>Budapest</td>\n",
       "      <td>11.455387</td>\n",
       "      <td>94.054033</td>\n",
       "      <td>NaN</td>\n",
       "    </tr>\n",
       "    <tr>\n",
       "      <th>4</th>\n",
       "      <td>Gmunden</td>\n",
       "      <td>2.828363</td>\n",
       "      <td>342.188275</td>\n",
       "      <td>NaN</td>\n",
       "    </tr>\n",
       "    <tr>\n",
       "      <th>5</th>\n",
       "      <td>Graz</td>\n",
       "      <td>7.774837</td>\n",
       "      <td>273.430890</td>\n",
       "      <td>NaN</td>\n",
       "    </tr>\n",
       "    <tr>\n",
       "      <th>6</th>\n",
       "      <td>Innsbruck</td>\n",
       "      <td>6.223142</td>\n",
       "      <td>315.598981</td>\n",
       "      <td>NaN</td>\n",
       "    </tr>\n",
       "    <tr>\n",
       "      <th>7</th>\n",
       "      <td>Linz</td>\n",
       "      <td>13.335696</td>\n",
       "      <td>194.605447</td>\n",
       "      <td>NaN</td>\n",
       "    </tr>\n",
       "    <tr>\n",
       "      <th>8</th>\n",
       "      <td>Mailand</td>\n",
       "      <td>9.257184</td>\n",
       "      <td>179.377385</td>\n",
       "      <td>NaN</td>\n",
       "    </tr>\n",
       "    <tr>\n",
       "      <th>9</th>\n",
       "      <td>München</td>\n",
       "      <td>8.583994</td>\n",
       "      <td>175.375552</td>\n",
       "      <td>18.40</td>\n",
       "    </tr>\n",
       "    <tr>\n",
       "      <th>10</th>\n",
       "      <td>Prag</td>\n",
       "      <td>16.330730</td>\n",
       "      <td>165.665692</td>\n",
       "      <td>19.37</td>\n",
       "    </tr>\n",
       "    <tr>\n",
       "      <th>11</th>\n",
       "      <td>San Francisco</td>\n",
       "      <td>2.679947</td>\n",
       "      <td>99.077549</td>\n",
       "      <td>NaN</td>\n",
       "    </tr>\n",
       "    <tr>\n",
       "      <th>12</th>\n",
       "      <td>San Francisco</td>\n",
       "      <td>11.644135</td>\n",
       "      <td>77.401544</td>\n",
       "      <td>NaN</td>\n",
       "    </tr>\n",
       "    <tr>\n",
       "      <th>13</th>\n",
       "      <td>Wien</td>\n",
       "      <td>7.660184</td>\n",
       "      <td>191.187581</td>\n",
       "      <td>14.90</td>\n",
       "    </tr>\n",
       "  </tbody>\n",
       "</table>\n",
       "</div>"
      ],
      "text/plain": [
       "            Stadt    Distanz  Kurvigkeit  Geschwindigkeit\n",
       "0          Berlin  10.914380  130.719676            17.40\n",
       "1          Berlin  11.222666  131.365233            17.40\n",
       "2            Brno  10.323065  176.768461              NaN\n",
       "3        Budapest  11.455387   94.054033              NaN\n",
       "4         Gmunden   2.828363  342.188275              NaN\n",
       "5            Graz   7.774837  273.430890              NaN\n",
       "6       Innsbruck   6.223142  315.598981              NaN\n",
       "7            Linz  13.335696  194.605447              NaN\n",
       "8         Mailand   9.257184  179.377385              NaN\n",
       "9         München   8.583994  175.375552            18.40\n",
       "10           Prag  16.330730  165.665692            19.37\n",
       "11  San Francisco   2.679947   99.077549              NaN\n",
       "12  San Francisco  11.644135   77.401544              NaN\n",
       "13           Wien   7.660184  191.187581            14.90"
      ]
     },
     "execution_count": 8,
     "metadata": {},
     "output_type": "execute_result"
    }
   ],
   "source": [
    "merged_df"
   ]
  }
 ],
 "metadata": {
  "kernelspec": {
   "display_name": "Python 3 (ipykernel)",
   "language": "python",
   "name": "python3"
  },
  "language_info": {
   "codemirror_mode": {
    "name": "ipython",
    "version": 3
   },
   "file_extension": ".py",
   "mimetype": "text/x-python",
   "name": "python",
   "nbconvert_exporter": "python",
   "pygments_lexer": "ipython3",
   "version": "3.12.3"
  }
 },
 "nbformat": 4,
 "nbformat_minor": 5
}
